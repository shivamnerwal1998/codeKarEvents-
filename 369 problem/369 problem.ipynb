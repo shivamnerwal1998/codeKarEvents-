{
 "cells": [
  {
   "cell_type": "code",
   "execution_count": 10,
   "metadata": {},
   "outputs": [
    {
     "name": "stdout",
     "output_type": "stream",
     "text": [
      "369 400\n",
      "2\n"
     ]
    }
   ],
   "source": [
    "#### is number function checks weather the number is 369\n",
    "def isNumber(lb,ub) :\n",
    "    count=0 \n",
    "    for i in range(lb,ub+1):\n",
    "        num = str(i)\n",
    "        flag3 =0 \n",
    "        flag6 =0\n",
    "        flag9 =0\n",
    "        for j in range(0,len(num)) :\n",
    "            if num[j] == '3':\n",
    "                flag3 +=1  \n",
    "            if num[j] == '6':\n",
    "                flag6 +=1\n",
    "            if num[j] == '9':\n",
    "                flag9 += 1\n",
    "        if(flag3 > 0 and (flag6 == flag9) and (flag9 == flag3)) :\n",
    "            count +=1\n",
    "            \n",
    "    return count \n",
    "        \n",
    "   \n",
    "    \n",
    "data = input()\n",
    "bounds  = data.split(\" \")\n",
    "lb = int(bounds[0])\n",
    "ub = int(bounds[1])\n",
    "\n",
    "print(isNumber(lb,ub))"
   ]
  }
 ],
 "metadata": {
  "kernelspec": {
   "display_name": "Python 3",
   "language": "python",
   "name": "python3"
  },
  "language_info": {
   "codemirror_mode": {
    "name": "ipython",
    "version": 3
   },
   "file_extension": ".py",
   "mimetype": "text/x-python",
   "name": "python",
   "nbconvert_exporter": "python",
   "pygments_lexer": "ipython3",
   "version": "3.7.6"
  }
 },
 "nbformat": 4,
 "nbformat_minor": 4
}
