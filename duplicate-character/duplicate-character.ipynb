{
 "cells": [
  {
   "cell_type": "code",
   "execution_count": null,
   "metadata": {},
   "outputs": [],
   "source": [
    "def isRepetetion(element,data) :\n",
    "    flag = 0\n",
    "    for i in range(len(data)):\n",
    "        if flag > 1 :\n",
    "            return 1\n",
    "        if data[i] is element :\n",
    "            flag +=1\n",
    "    return 0\n",
    "    \n",
    "data = input()\n",
    "count = 0\n",
    "flag = 0\n",
    "flag2 = 0\n",
    "signal = 'green'\n",
    "for i in range(0,len(data)) :\n",
    "    count += isRepetetion(data[i],data[i:])\n",
    "print(count)\n",
    "\n"
   ]
  }
 ],
 "metadata": {
  "kernelspec": {
   "display_name": "Python 3",
   "language": "python",
   "name": "python3"
  },
  "language_info": {
   "codemirror_mode": {
    "name": "ipython",
    "version": 3
   },
   "file_extension": ".py",
   "mimetype": "text/x-python",
   "name": "python",
   "nbconvert_exporter": "python",
   "pygments_lexer": "ipython3",
   "version": "3.7.6"
  }
 },
 "nbformat": 4,
 "nbformat_minor": 4
}
