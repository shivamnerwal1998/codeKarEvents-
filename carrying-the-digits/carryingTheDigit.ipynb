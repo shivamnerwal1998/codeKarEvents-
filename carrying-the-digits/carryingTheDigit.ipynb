{
 "cells": [
  {
   "cell_type": "code",
   "execution_count": null,
   "metadata": {},
   "outputs": [],
   "source": [
    "num1 = input()\n",
    "num2 = input()\n",
    "i = 1\n",
    "j = 1\n",
    "sum = 0\n",
    "carry = 0\n",
    "flag = 0\n",
    "\n",
    "while ( (i in range(1,len(num1)+2)) and (j in range(1,len(num2)+2) )) :\n",
    "    if(i > len(num1) ) :\n",
    "        Num1 = 0\n",
    "    else :\n",
    "        Num1 = int(num1[-i])\n",
    "        \n",
    "    if(j > len(num2) ) :\n",
    "        Num2 = 0\n",
    "    else:\n",
    "        Num2 = int(num2[-j])\n",
    "        \n",
    "    sum = (Num1 + Num2 + carry) \n",
    "    if(sum >= 10):\n",
    "        flag += 1\n",
    "        if(sum != 10) :\n",
    "            carry = (sum - 10)\n",
    "        else :\n",
    "            carry = 1\n",
    "    else :\n",
    "        carry = 0 \n",
    "    i+=1\n",
    "    j+=1\n",
    "    \n",
    "print(flag)\n",
    "    "
   ]
  }
 ],
 "metadata": {
  "kernelspec": {
   "display_name": "Python 3",
   "language": "python",
   "name": "python3"
  },
  "language_info": {
   "codemirror_mode": {
    "name": "ipython",
    "version": 3
   },
   "file_extension": ".py",
   "mimetype": "text/x-python",
   "name": "python",
   "nbconvert_exporter": "python",
   "pygments_lexer": "ipython3",
   "version": "3.7.6"
  }
 },
 "nbformat": 4,
 "nbformat_minor": 4
}
